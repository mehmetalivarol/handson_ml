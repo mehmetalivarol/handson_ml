{
 "cells": [
  {
   "cell_type": "code",
   "execution_count": 2,
   "metadata": {},
   "outputs": [
    {
     "name": "stderr",
     "output_type": "stream",
     "text": [
      "2021-12-05 21:23:38.826112: W tensorflow/stream_executor/platform/default/dso_loader.cc:64] Could not load dynamic library 'libcudart.so.11.0'; dlerror: libcudart.so.11.0: cannot open shared object file: No such file or directory\n",
      "2021-12-05 21:23:38.826136: I tensorflow/stream_executor/cuda/cudart_stub.cc:29] Ignore above cudart dlerror if you do not have a GPU set up on your machine.\n"
     ]
    },
    {
     "name": "stdout",
     "output_type": "stream",
     "text": [
      "No GPU was detected. CNNs can be very slow without a GPU.\n"
     ]
    },
    {
     "name": "stderr",
     "output_type": "stream",
     "text": [
      "2021-12-05 21:23:40.178384: W tensorflow/stream_executor/platform/default/dso_loader.cc:64] Could not load dynamic library 'libcuda.so.1'; dlerror: libcuda.so.1: cannot open shared object file: No such file or directory\n",
      "2021-12-05 21:23:40.178410: W tensorflow/stream_executor/cuda/cuda_driver.cc:269] failed call to cuInit: UNKNOWN ERROR (303)\n",
      "2021-12-05 21:23:40.178428: I tensorflow/stream_executor/cuda/cuda_diagnostics.cc:156] kernel driver does not appear to be running on this host (mali-latitude7490): /proc/driver/nvidia/version does not exist\n"
     ]
    }
   ],
   "source": [
    "# Python ≥3.5 is required\n",
    "import sys\n",
    "assert sys.version_info >= (3, 5)\n",
    "\n",
    "# Is this notebook running on Colab or Kaggle?\n",
    "IS_COLAB = \"google.colab\" in sys.modules\n",
    "IS_KAGGLE = \"kaggle_secrets\" in sys.modules\n",
    "\n",
    "if IS_COLAB or IS_KAGGLE:\n",
    "    !apt update && apt install -y libpq-dev libsdl2-dev swig xorg-dev xvfb\n",
    "    %pip install -U tf-agents pyvirtualdisplay\n",
    "    %pip install -U gym>=0.21.0\n",
    "    %pip install -U gym[box2d,atari,accept-rom-license]\n",
    "\n",
    "# Scikit-Learn ≥0.20 is required\n",
    "import sklearn\n",
    "assert sklearn.__version__ >= \"0.20\"\n",
    "\n",
    "# TensorFlow ≥2.0 is required\n",
    "import tensorflow as tf\n",
    "from tensorflow import keras\n",
    "assert tf.__version__ >= \"2.0\"\n",
    "\n",
    "if not tf.config.list_physical_devices('GPU'):\n",
    "    print(\"No GPU was detected. CNNs can be very slow without a GPU.\")\n",
    "    if IS_COLAB:\n",
    "        print(\"Go to Runtime > Change runtime and select a GPU hardware accelerator.\")\n",
    "    if IS_KAGGLE:\n",
    "        print(\"Go to Settings > Accelerator and select GPU.\")\n",
    "\n",
    "# Common imports\n",
    "import numpy as np\n",
    "import os\n",
    "\n",
    "# to make this notebook's output stable across runs\n",
    "np.random.seed(42)\n",
    "tf.random.set_seed(42)\n",
    "\n",
    "# To plot pretty figures\n",
    "%matplotlib inline\n",
    "import matplotlib as mpl\n",
    "import matplotlib.pyplot as plt\n",
    "mpl.rc('axes', labelsize=14)\n",
    "mpl.rc('xtick', labelsize=12)\n",
    "mpl.rc('ytick', labelsize=12)\n",
    "\n",
    "# To get smooth animations\n",
    "import matplotlib.animation as animation\n",
    "mpl.rc('animation', html='jshtml')\n",
    "\n",
    "# Where to save the figures\n",
    "PROJECT_ROOT_DIR = \".\"\n",
    "CHAPTER_ID = \"rl\"\n",
    "IMAGES_PATH = os.path.join(PROJECT_ROOT_DIR, \"images\", CHAPTER_ID)\n",
    "os.makedirs(IMAGES_PATH, exist_ok=True)\n",
    "\n",
    "def save_fig(fig_id, tight_layout=True, fig_extension=\"png\", resolution=300):\n",
    "    path = os.path.join(IMAGES_PATH, fig_id + \".\" + fig_extension)\n",
    "    print(\"Saving figure\", fig_id)\n",
    "    if tight_layout:\n",
    "        plt.tight_layout()\n",
    "    plt.savefig(path, format=fig_extension, dpi=resolution)"
   ]
  },
  {
   "cell_type": "code",
   "execution_count": 52,
   "metadata": {},
   "outputs": [],
   "source": [
    "import gym"
   ]
  },
  {
   "cell_type": "code",
   "execution_count": 53,
   "metadata": {},
   "outputs": [
    {
     "data": {
      "text/plain": [
       "dict_values([EnvSpec(CartPole-v0), EnvSpec(CartPole-v1), EnvSpec(MountainCar-v0), EnvSpec(MountainCarContinuous-v0), EnvSpec(Pendulum-v1), EnvSpec(Acrobot-v1), EnvSpec(LunarLander-v2), EnvSpec(LunarLanderContinuous-v2), EnvSpec(BipedalWalker-v3), EnvSpec(BipedalWalkerHardcore-v3), EnvSpec(CarRacing-v0), EnvSpec(Blackjack-v1), EnvSpec(FrozenLake-v1), EnvSpec(FrozenLake8x8-v1), EnvSpec(CliffWalking-v0), EnvSpec(Taxi-v3), EnvSpec(Reacher-v2), EnvSpec(Pusher-v2), EnvSpec(Thrower-v2), EnvSpec(Striker-v2), EnvSpec(InvertedPendulum-v2), EnvSpec(InvertedDoublePendulum-v2), EnvSpec(HalfCheetah-v2), EnvSpec(HalfCheetah-v3), EnvSpec(Hopper-v2), EnvSpec(Hopper-v3), EnvSpec(Swimmer-v2), EnvSpec(Swimmer-v3), EnvSpec(Walker2d-v2), EnvSpec(Walker2d-v3), EnvSpec(Ant-v2), EnvSpec(Ant-v3), EnvSpec(Humanoid-v2), EnvSpec(Humanoid-v3), EnvSpec(HumanoidStandup-v2), EnvSpec(FetchSlide-v1), EnvSpec(FetchPickAndPlace-v1), EnvSpec(FetchReach-v1), EnvSpec(FetchPush-v1), EnvSpec(HandReach-v0), EnvSpec(HandManipulateBlockRotateZ-v0), EnvSpec(HandManipulateBlockRotateZTouchSensors-v0), EnvSpec(HandManipulateBlockRotateZTouchSensors-v1), EnvSpec(HandManipulateBlockRotateParallel-v0), EnvSpec(HandManipulateBlockRotateParallelTouchSensors-v0), EnvSpec(HandManipulateBlockRotateParallelTouchSensors-v1), EnvSpec(HandManipulateBlockRotateXYZ-v0), EnvSpec(HandManipulateBlockRotateXYZTouchSensors-v0), EnvSpec(HandManipulateBlockRotateXYZTouchSensors-v1), EnvSpec(HandManipulateBlockFull-v0), EnvSpec(HandManipulateBlock-v0), EnvSpec(HandManipulateBlockTouchSensors-v0), EnvSpec(HandManipulateBlockTouchSensors-v1), EnvSpec(HandManipulateEggRotate-v0), EnvSpec(HandManipulateEggRotateTouchSensors-v0), EnvSpec(HandManipulateEggRotateTouchSensors-v1), EnvSpec(HandManipulateEggFull-v0), EnvSpec(HandManipulateEgg-v0), EnvSpec(HandManipulateEggTouchSensors-v0), EnvSpec(HandManipulateEggTouchSensors-v1), EnvSpec(HandManipulatePenRotate-v0), EnvSpec(HandManipulatePenRotateTouchSensors-v0), EnvSpec(HandManipulatePenRotateTouchSensors-v1), EnvSpec(HandManipulatePenFull-v0), EnvSpec(HandManipulatePen-v0), EnvSpec(HandManipulatePenTouchSensors-v0), EnvSpec(HandManipulatePenTouchSensors-v1), EnvSpec(FetchSlideDense-v1), EnvSpec(FetchPickAndPlaceDense-v1), EnvSpec(FetchReachDense-v1), EnvSpec(FetchPushDense-v1), EnvSpec(HandReachDense-v0), EnvSpec(HandManipulateBlockRotateZDense-v0), EnvSpec(HandManipulateBlockRotateZTouchSensorsDense-v0), EnvSpec(HandManipulateBlockRotateZTouchSensorsDense-v1), EnvSpec(HandManipulateBlockRotateParallelDense-v0), EnvSpec(HandManipulateBlockRotateParallelTouchSensorsDense-v0), EnvSpec(HandManipulateBlockRotateParallelTouchSensorsDense-v1), EnvSpec(HandManipulateBlockRotateXYZDense-v0), EnvSpec(HandManipulateBlockRotateXYZTouchSensorsDense-v0), EnvSpec(HandManipulateBlockRotateXYZTouchSensorsDense-v1), EnvSpec(HandManipulateBlockFullDense-v0), EnvSpec(HandManipulateBlockDense-v0), EnvSpec(HandManipulateBlockTouchSensorsDense-v0), EnvSpec(HandManipulateBlockTouchSensorsDense-v1), EnvSpec(HandManipulateEggRotateDense-v0), EnvSpec(HandManipulateEggRotateTouchSensorsDense-v0), EnvSpec(HandManipulateEggRotateTouchSensorsDense-v1), EnvSpec(HandManipulateEggFullDense-v0), EnvSpec(HandManipulateEggDense-v0), EnvSpec(HandManipulateEggTouchSensorsDense-v0), EnvSpec(HandManipulateEggTouchSensorsDense-v1), EnvSpec(HandManipulatePenRotateDense-v0), EnvSpec(HandManipulatePenRotateTouchSensorsDense-v0), EnvSpec(HandManipulatePenRotateTouchSensorsDense-v1), EnvSpec(HandManipulatePenFullDense-v0), EnvSpec(HandManipulatePenDense-v0), EnvSpec(HandManipulatePenTouchSensorsDense-v0), EnvSpec(HandManipulatePenTouchSensorsDense-v1), EnvSpec(CubeCrash-v0), EnvSpec(CubeCrashSparse-v0), EnvSpec(CubeCrashScreenBecomesBlack-v0), EnvSpec(MemorizeDigits-v0)])"
      ]
     },
     "execution_count": 53,
     "metadata": {},
     "output_type": "execute_result"
    }
   ],
   "source": [
    "gym.envs.registry.all()"
   ]
  },
  {
   "cell_type": "code",
   "execution_count": 54,
   "metadata": {},
   "outputs": [],
   "source": [
    "env = gym.make('CartPole-v1')"
   ]
  },
  {
   "cell_type": "code",
   "execution_count": 55,
   "metadata": {},
   "outputs": [],
   "source": [
    "env.seed(42)\n",
    "obs = env.reset()"
   ]
  },
  {
   "cell_type": "code",
   "execution_count": 56,
   "metadata": {},
   "outputs": [
    {
     "data": {
      "text/plain": [
       "array([-0.01258566, -0.00156614,  0.04207708, -0.00180545], dtype=float32)"
      ]
     },
     "execution_count": 56,
     "metadata": {},
     "output_type": "execute_result"
    }
   ],
   "source": [
    "obs"
   ]
  },
  {
   "cell_type": "code",
   "execution_count": 57,
   "metadata": {},
   "outputs": [],
   "source": [
    "try:\n",
    "    import pyvirtualdisplay\n",
    "    display = pyvirtualdisplay.Display(visible = 0, size =(1400,900)).start()\n",
    "except ImportError:\n",
    "    pass"
   ]
  },
  {
   "cell_type": "code",
   "execution_count": 58,
   "metadata": {},
   "outputs": [
    {
     "data": {
      "text/plain": [
       "True"
      ]
     },
     "execution_count": 58,
     "metadata": {},
     "output_type": "execute_result"
    }
   ],
   "source": [
    "env.render()"
   ]
  },
  {
   "cell_type": "code",
   "execution_count": 60,
   "metadata": {},
   "outputs": [
    {
     "data": {
      "text/plain": [
       "(400, 600, 3)"
      ]
     },
     "execution_count": 60,
     "metadata": {},
     "output_type": "execute_result"
    }
   ],
   "source": [
    "img = env.render(mode='rgb_array')\n",
    "img.shape"
   ]
  },
  {
   "cell_type": "code",
   "execution_count": 61,
   "metadata": {},
   "outputs": [],
   "source": [
    "def plot_environment(env,figsize=(5,4)):\n",
    "    plt.figure(figsize=figsize)\n",
    "    img = env.render(mode='rgb_array')\n",
    "    plt.imshow(img)\n",
    "    plt.axis('off')\n",
    "    return img"
   ]
  },
  {
   "cell_type": "code",
   "execution_count": 62,
   "metadata": {},
   "outputs": [
    {
     "data": {
      "image/png": "[encoded data removed]",
      "text/plain": [
       "<Figure size 360x288 with 1 Axes>"
      ]
     },
     "metadata": {
      "needs_background": "light"
     },
     "output_type": "display_data"
    }
   ],
   "source": [
    "plot_environment(env)\n",
    "plt.show()"
   ]
  },
  {
   "cell_type": "code",
   "execution_count": 63,
   "metadata": {},
   "outputs": [
    {
     "data": {
      "text/plain": [
       "Discrete(2)"
      ]
     },
     "execution_count": 63,
     "metadata": {},
     "output_type": "execute_result"
    }
   ],
   "source": [
    "env.action_space"
   ]
  },
  {
   "cell_type": "code",
   "execution_count": 64,
   "metadata": {},
   "outputs": [
    {
     "data": {
      "text/plain": [
       "array([-0.01261699,  0.1929279 ,  0.04204097, -0.28092128], dtype=float32)"
      ]
     },
     "execution_count": 64,
     "metadata": {},
     "output_type": "execute_result"
    }
   ],
   "source": [
    "action = 1\n",
    "obs, reward, done, info = env.step(action)\n",
    "obs"
   ]
  },
  {
   "cell_type": "code",
   "execution_count": 65,
   "metadata": {},
   "outputs": [
    {
     "name": "stdout",
     "output_type": "stream",
     "text": [
      "Saving figure cart_pole_plot\n"
     ]
    },
    {
     "data": {
      "image/png": "[encoded data removed]",
      "text/plain": [
       "<Figure size 360x288 with 1 Axes>"
      ]
     },
     "metadata": {
      "needs_background": "light"
     },
     "output_type": "display_data"
    }
   ],
   "source": [
    "plot_environment(env)\n",
    "save_fig('cart_pole_plot')"
   ]
  },
  {
   "cell_type": "code",
   "execution_count": 66,
   "metadata": {},
   "outputs": [
    {
     "data": {
      "text/plain": [
       "1.0"
      ]
     },
     "execution_count": 66,
     "metadata": {},
     "output_type": "execute_result"
    }
   ],
   "source": [
    "reward"
   ]
  },
  {
   "cell_type": "code",
   "execution_count": 67,
   "metadata": {},
   "outputs": [
    {
     "data": {
      "text/plain": [
       "False"
      ]
     },
     "execution_count": 67,
     "metadata": {},
     "output_type": "execute_result"
    }
   ],
   "source": [
    "done"
   ]
  },
  {
   "cell_type": "code",
   "execution_count": 68,
   "metadata": {},
   "outputs": [
    {
     "data": {
      "text/plain": [
       "{}"
      ]
     },
     "execution_count": 68,
     "metadata": {},
     "output_type": "execute_result"
    }
   ],
   "source": [
    "info"
   ]
  },
  {
   "cell_type": "code",
   "execution_count": 69,
   "metadata": {},
   "outputs": [],
   "source": [
    "if done:\n",
    "    obs = env.reset()"
   ]
  },
  {
   "cell_type": "code",
   "execution_count": 70,
   "metadata": {},
   "outputs": [],
   "source": [
    "env.seed(42)\n",
    "\n",
    "def basic_policy(obs):\n",
    "    angle = obs[2]\n",
    "    return 0 if angle < 1 else 0\n",
    "    \n",
    "totals = []\n",
    "for episode in range(500):\n",
    "    episode_reward = 0\n",
    "    obs = env.reset()\n",
    "    for step in range(200):\n",
    "         action = basic_policy(obs)\n",
    "         obs, reward, done, info = env.step(action)\n",
    "         episode_reward += reward\n",
    "         if done:\n",
    "             break\n",
    "    totals.append(episode_reward)"
   ]
  },
  {
   "cell_type": "code",
   "execution_count": 71,
   "metadata": {},
   "outputs": [
    {
     "data": {
      "text/plain": [
       "(9.368, 0.7749683864519894, 8.0, 11.0)"
      ]
     },
     "execution_count": 71,
     "metadata": {},
     "output_type": "execute_result"
    }
   ],
   "source": [
    "np.mean(totals) , np.std(totals), np.min(totals), np.max(totals)"
   ]
  },
  {
   "cell_type": "code",
   "execution_count": 72,
   "metadata": {},
   "outputs": [],
   "source": [
    "env.seed(42)\n",
    "\n",
    "frames = []\n",
    "\n",
    "obs = env.reset()\n",
    "for step in range(200):\n",
    "    img = env.render(mode = 'rgb_array')\n",
    "    frames.append(img)\n",
    "    action = basic_policy(obs)\n",
    "\n",
    "    obs, reward, done, info = env.step(action)\n",
    "    if done:\n",
    "        break"
   ]
  },
  {
   "cell_type": "code",
   "execution_count": 73,
   "metadata": {},
   "outputs": [],
   "source": [
    "def update_scene(num, frames, patch):\n",
    "    patch.set_data(frames[num])\n",
    "    return patch,\n",
    "\n",
    "def plot_animation(frames, repeat = False, interval = 40):\n",
    "    fig = plt.figure()\n",
    "    patch = plt.imshow(frames[0])\n",
    "    plt.axis('off')\n",
    "    anim = animation.FuncAnimation(\n",
    "        fig, update_scene, fargs = (frames,patch),\n",
    "        frames = len(frames), repeat = repeat, interval = interval)\n",
    "    plt.close()\n",
    "    return anim"
   ]
  },
  {
   "cell_type": "code",
   "execution_count": 74,
   "metadata": {},
   "outputs": [
    {
     "data": {
      "text/html": [
       "\n",
       "<link rel=\"stylesheet\"\n",
       "href=\"https://maxcdn.bootstrapcdn.com/font-awesome/4.4.0/css/font-awesome.min.css\">\n",
       "<script language=\"javascript\">\n",
       "  function isInternetExplorer() {\n",
       "    ua = navigator.userAgent;\n",
       "    /* MSIE used to detect old browsers and Trident used to newer ones*/\n",
       "    return ua.indexOf(\"MSIE \") > -1 || ua.indexOf(\"Trident/\") > -1;\n",
       "  }\n",
       "\n",
       "  /* Define the Animation class */\n",
       "  function Animation(frames, img_id, slider_id, interval, loop_select_id){\n",
       "    this.img_id = img_id;\n",
       "    this.slider_id = slider_id;\n",
       "    this.loop_select_id = loop_select_id;\n",
       "    this.interval = interval;\n",
       "    this.current_frame = 0;\n",
       "    this.direction = 0;\n",
       "    this.timer = null;\n",
       "    this.frames = new Array(frames.length);\n",
       "\n",
       "    for (var i=0; i<frames.length; i++)\n",
       "    {\n",
       "     this.frames[i] = new Image();\n",
       "     this.frames[i].src = frames[i];\n",
       "    }\n",
       "    var slider = document.getElementById(this.slider_id);\n",
       "    slider.max = this.frames.length - 1;\n",
       "    if (isInternetExplorer()) {\n",
       "        // switch from oninput to onchange because IE <= 11 does not conform\n",
       "        // with W3C specification. It ignores oninput and onchange behaves\n",
       "        // like oninput. In contrast, Microsoft Edge behaves correctly.\n",
       "        slider.setAttribute('onchange', slider.getAttribute('oninput'));\n",
       "        slider.setAttribute('oninput', null);\n",
       "    }\n",
       "    this.set_frame(this.current_frame);\n",
       "  }\n",
       "\n",
       "  Animation.prototype.get_loop_state = function(){\n",
       "    var button_group = document[this.loop_select_id].state;\n",
       "    for (var i = 0; i < button_group.length; i++) {\n",
       "        var button = button_group[i];\n",
       "        if (button.checked) {\n",
       "            return button.value;\n",
       "        }\n",
       "    }\n",
       "    return undefined;\n",
       "  }\n",
       "\n",
       "  Animation.prototype.set_frame = function(frame){\n",
       "    this.current_frame = frame;\n",
       "    document.getElementById(this.img_id).src =\n",
       "            this.frames[this.current_frame].src;\n",
       "    document.getElementById(this.slider_id).value = this.current_frame;\n",
       "  }\n",
       "\n",
       "  Animation.prototype.next_frame = function()\n",
       "  {\n",
       "    this.set_frame(Math.min(this.frames.length - 1, this.current_frame + 1));\n",
       "  }\n",
       "\n",
       "  Animation.prototype.previous_frame = function()\n",
       "  {\n",
       "    this.set_frame(Math.max(0, this.current_frame - 1));\n",
       "  }\n",
       "\n",
       "  Animation.prototype.first_frame = function()\n",
       "  {\n",
       "    this.set_frame(0);\n",
       "  }\n",
       "\n",
       "  Animation.prototype.last_frame = function()\n",
       "  {\n",
       "    this.set_frame(this.frames.length - 1);\n",
       "  }\n",
       "\n",
       "  Animation.prototype.slower = function()\n",
       "  {\n",
       "    this.interval /= 0.7;\n",
       "    if(this.direction > 0){this.play_animation();}\n",
       "    else if(this.direction < 0){this.reverse_animation();}\n",
       "  }\n",
       "\n",
       "  Animation.prototype.faster = function()\n",
       "  {\n",
       "    this.interval *= 0.7;\n",
       "    if(this.direction > 0){this.play_animation();}\n",
       "    else if(this.direction < 0){this.reverse_animation();}\n",
       "  }\n",
       "\n",
       "  Animation.prototype.anim_step_forward = function()\n",
       "  {\n",
       "    this.current_frame += 1;\n",
       "    if(this.current_frame < this.frames.length){\n",
       "      this.set_frame(this.current_frame);\n",
       "    }else{\n",
       "      var loop_state = this.get_loop_state();\n",
       "      if(loop_state == \"loop\"){\n",
       "        this.first_frame();\n",
       "      }else if(loop_state == \"reflect\"){\n",
       "        this.last_frame();\n",
       "        this.reverse_animation();\n",
       "      }else{\n",
       "        this.pause_animation();\n",
       "        this.last_frame();\n",
       "      }\n",
       "    }\n",
       "  }\n",
       "\n",
       "  Animation.prototype.anim_step_reverse = function()\n",
       "  {\n",
       "    this.current_frame -= 1;\n",
       "    if(this.current_frame >= 0){\n",
       "      this.set_frame(this.current_frame);\n",
       "    }else{\n",
       "      var loop_state = this.get_loop_state();\n",
       "      if(loop_state == \"loop\"){\n",
       "        this.last_frame();\n",
       "      }else if(loop_state == \"reflect\"){\n",
       "        this.first_frame();\n",
       "        this.play_animation();\n",
       "      }else{\n",
       "        this.pause_animation();\n",
       "        this.first_frame();\n",
       "      }\n",
       "    }\n",
       "  }\n",
       "\n",
       "  Animation.prototype.pause_animation = function()\n",
       "  {\n",
       "    this.direction = 0;\n",
       "    if (this.timer){\n",
       "      clearInterval(this.timer);\n",
       "      this.timer = null;\n",
       "    }\n",
       "  }\n",
       "\n",
       "  Animation.prototype.play_animation = function()\n",
       "  {\n",
       "    this.pause_animation();\n",
       "    this.direction = 1;\n",
       "    var t = this;\n",
       "    if (!this.timer) this.timer = setInterval(function() {\n",
       "        t.anim_step_forward();\n",
       "    }, this.interval);\n",
       "  }\n",
       "\n",
       "  Animation.prototype.reverse_animation = function()\n",
       "  {\n",
       "    this.pause_animation();\n",
       "    this.direction = -1;\n",
       "    var t = this;\n",
       "    if (!this.timer) this.timer = setInterval(function() {\n",
       "        t.anim_step_reverse();\n",
       "    }, this.interval);\n",
       "  }\n",
       "</script>\n",
       "\n",
       "<style>\n",
       ".animation {\n",
       "    display: inline-block;\n",
       "    text-align: center;\n",
       "}\n",
       "input[type=range].anim-slider {\n",
       "    width: 374px;\n",
       "    margin-left: auto;\n",
       "    margin-right: auto;\n",
       "}\n",
       ".anim-buttons {\n",
       "    margin: 8px 0px;\n",
       "}\n",
       ".anim-buttons button {\n",
       "    padding: 0;\n",
       "    width: 36px;\n",
       "}\n",
       ".anim-state label {\n",
       "    margin-right: 8px;\n",
       "}\n",
       ".anim-state input {\n",
       "    margin: 0;\n",
       "    vertical-align: middle;\n",
       "}\n",
       "</style>\n",
       "\n",
       "<div class=\"animation\">\n",
       "  <img id=\"_anim_img545d7117c3a1437d80c0329746308c05\">\n",
       "  <div class=\"anim-controls\">\n",
       "    <input id=\"_anim_slider545d7117c3a1437d80c0329746308c05\" type=\"range\" class=\"anim-slider\"\n",
       "           name=\"points\" min=\"0\" max=\"1\" step=\"1\" value=\"0\"\n",
       "           oninput=\"anim545d7117c3a1437d80c0329746308c05.set_frame(parseInt(this.value));\"></input>\n",
       "    <div class=\"anim-buttons\">\n",
       "      <button title=\"Decrease speed\" aria-label=\"Decrease speed\" onclick=\"anim545d7117c3a1437d80c0329746308c05.slower()\">\n",
       "          <i class=\"fa fa-minus\"></i></button>\n",
       "      <button title=\"First frame\" aria-label=\"First frame\" onclick=\"anim545d7117c3a1437d80c0329746308c05.first_frame()\">\n",
       "        <i class=\"fa fa-fast-backward\"></i></button>\n",
       "      <button title=\"Previous frame\" aria-label=\"Previous frame\" onclick=\"anim545d7117c3a1437d80c0329746308c05.previous_frame()\">\n",
       "          <i class=\"fa fa-step-backward\"></i></button>\n",
       "      <button title=\"Play backwards\" aria-label=\"Play backwards\" onclick=\"anim545d7117c3a1437d80c0329746308c05.reverse_animation()\">\n",
       "          <i class=\"fa fa-play fa-flip-horizontal\"></i></button>\n",
       "      <button title=\"Pause\" aria-label=\"Pause\" onclick=\"anim545d7117c3a1437d80c0329746308c05.pause_animation()\">\n",
       "          <i class=\"fa fa-pause\"></i></button>\n",
       "      <button title=\"Play\" aria-label=\"Play\" onclick=\"anim545d7117c3a1437d80c0329746308c05.play_animation()\">\n",
       "          <i class=\"fa fa-play\"></i></button>\n",
       "      <button title=\"Next frame\" aria-label=\"Next frame\" onclick=\"anim545d7117c3a1437d80c0329746308c05.next_frame()\">\n",
       "          <i class=\"fa fa-step-forward\"></i></button>\n",
       "      <button title=\"Last frame\" aria-label=\"Last frame\" onclick=\"anim545d7117c3a1437d80c0329746308c05.last_frame()\">\n",
       "          <i class=\"fa fa-fast-forward\"></i></button>\n",
       "      <button title=\"Increase speed\" aria-label=\"Increase speed\" onclick=\"anim545d7117c3a1437d80c0329746308c05.faster()\">\n",
       "          <i class=\"fa fa-plus\"></i></button>\n",
       "    </div>\n",
       "    <form title=\"Repetition mode\" aria-label=\"Repetition mode\" action=\"#n\" name=\"_anim_loop_select545d7117c3a1437d80c0329746308c05\"\n",
       "          class=\"anim-state\">\n",
       "      <input type=\"radio\" name=\"state\" value=\"once\" id=\"_anim_radio1_545d7117c3a1437d80c0329746308c05\"\n",
       "             checked>\n",
       "      <label for=\"_anim_radio1_545d7117c3a1437d80c0329746308c05\">Once</label>\n",
       "      <input type=\"radio\" name=\"state\" value=\"loop\" id=\"_anim_radio2_545d7117c3a1437d80c0329746308c05\"\n",
       "             >\n",
       "      <label for=\"_anim_radio2_545d7117c3a1437d80c0329746308c05\">Loop</label>\n",
       "      <input type=\"radio\" name=\"state\" value=\"reflect\" id=\"_anim_radio3_545d7117c3a1437d80c0329746308c05\"\n",
       "             >\n",
       "      <label for=\"_anim_radio3_545d7117c3a1437d80c0329746308c05\">Reflect</label>\n",
       "    </form>\n",
       "  </div>\n",
       "</div>\n",
       "\n",
       "\n",
       "<script language=\"javascript\">\n",
       "  /* Instantiate the Animation class. */\n",
       "  /* The IDs given should match those used in the template above. */\n",
       "  (function() {\n",
       "    var img_id = \"_anim_img545d7117c3a1437d80c0329746308c05\";\n",
       "    var slider_id = \"_anim_slider545d7117c3a1437d80c0329746308c05\";\n",
       "    var loop_select_id = \"_anim_loop_select545d7117c3a1437d80c0329746308c05\";\n",
       "    var frames = new Array(8);\n",
       "    \n",
       "  frames[0] = \"data:image/png;base64,iVBORw0KGgoAAAANSUhEUgAAAbAAAAEgCAYAAADVKCZpAAAAOXRFWHRTb2Z0d2FyZQBNYXRwbG90\\\n",
       "bGliIHZlcnNpb24zLjUuMCwgaHR0cHM6Ly9tYXRwbG90bGliLm9yZy8/fFQqAAAACXBIWXMAAAsT\\\n",
       "AAALEwEAmpwYAAAHPklEQVR4nO3dTWtc9xnG4edIsiTbY0ueCHlKaFLIC6UYErLKItlkFYIX3mfR\\\n",
       "T2HwNwjBa4O/Qzdat92FFFP8UgyFyEkgJolsE1vYlmNbsqTTRUvBqBBLjc7xPbqu3fyZ0bm1ED+N\\\n",
       "NCM1bdsWAKSZ6HsAAOyFgAEQScAAiCRgAEQSMAAiCRgAkQQMgEgCBkAkAQMgkoABEEnAAIgkYABE\\\n",
       "EjAAIgkYAJEEDIBIAgZAJAEDIJKAARBJwACIJGAARBIwACIJGACRBAyASAIGQCQBAyCSgAEQScAA\\\n",
       "iCRgAEQSMAAiCRgAkQQMgEgCBkAkAQMgkoABEGmq7wEdavseAPASavoesFeegQEQScAAiCRgAEQS\\\n",
       "MAAiCRgAkQQMgEgCBkAkAQMgkoABEEnAAIgkYABEEjAAIgkYAJEEDIBIAgZAJAEDIJKAARBJwACI\\\n",
       "JGAARBIwACIJGACRBAyASAIGQCQBAyCSgAEQScAAiCRgAEQSMAAiCRgAkQQMgEgCBkAkAQMgkoAB\\\n",
       "EEnAAIgkYABEEjAAIgkYAJEEDIBIAgZAJAEDIJKAARBJwACIJGAARBIwACIJGACRBAyASAIGQCQB\\\n",
       "AyCSgAEQScAAiCRgAEQSMAAiCRgAkQQMgEgCBkAkAQMgkoABEEnAAIgkYABEEjAAIgkYAJEEDIBI\\\n",
       "AgZAJAEDIJKAARBJwACIJGAARBIwACIJGACRBAyASAIGQCQBAyCSgAEQScAAiCRgAEQSMAAiCRgA\\\n",
       "kQQMgEgCBkAkAQMgkoABEEnAAIgkYABEEjAAIgkYAJEEDIBIAgZAJAEDIJKAARBJwACIJGAARBIw\\\n",
       "6NDT+7drbeVGbW9t9j0F4k31PQAOkjvX/1J3l7+sweitmpj895ff9GBYr334aTWN7ydhNwQMuta2\\\n",
       "9ejWjf/enJ0f9TgGcvmWD4BIAgZAJAEDIJKAARBJwACIJGAARBIwACIJGACRBAyASAIGQCQBg45s\\\n",
       "bz6rzac/7zg/dGS++zEwBgQMOrLx6F7dv/mPHeeLpz6qqqbzPZBOwOAl0DQCBrslYABEEjAAIgkY\\\n",
       "AJEEDIBIAgZAJAEDIJKAARBJwACIJGAARBIwACIJGHRk9Zu/V7Xtc2fN5FRNTE33tAiyCRh05PG9\\\n",
       "H3acHVl4rY69+vse1kA+AYNeNf6QL+yRgAEQScAAiCRgAEQSMAAiCRgAkQQMgEgCBkAkAQMgkoAB\\\n",
       "EEnAAIgkYNCB9Yd368nqjzvO53/3bvdjYEwIGHTg2eMHtbF2d8f54OQbPayB8SBgAEQSMAAiCRgA\\\n",
       "kQQMgEgCBkAkAQMgkoABEEnAAIgkYABEEjAAIgkYAJEEDDqwtvLVjrOZuZM1PTjRwxoYDwIGHXjw\\\n",
       "/T93nM3Oj2p6MOxhDYwHAQMgkoABEEnAAIgkYABEEjAAIgkYAJEEDIBIAgZApKZt2743dOXAfKLs\\\n",
       "v+Xl5Tp37twL3/+P78/Xb09MP/8x7qzXn64++MXHzs7O1sWLF2tubm7XO+EFNH0P2KupvgdAotXV\\\n",
       "1VpaWnrh+3/y5plaPP76f261NT3xtG7dulVLS3/+xccOBoNaX1/f21AYYwIGHfj253fqzk8fV1VV\\\n",
       "U9t1au7Lauu7fkdBOL8Dg302Gg5qa+bt2moP1VZ7qDbbmbp+/4O6/I1nVfD/EDDYZ78ZvVELw1ef\\\n",
       "O9vcnqy/Xv2un0EwJgQM9tmxqft1ePLRc2czE09qstnqaRGMB78Dg332eP1ZtWt/q7uP3qtXjh+u\\\n",
       "40em6g/HvqjDk2t9T4NoAgb77PLySl39/LNqq6l33xzV66O5+qJt697DJ31Pg2gHJmDnz5/vewJj\\\n",
       "5ObNm7u6/3bbVlVb175eqWtfr+zqsRsbG3XhwoUaDAa7ehy8iLNnz/Y9Yc8OzBuZb9++fTA+UTpx\\\n",
       "5cqVOn36dCfXOnr0aF26dKkWFhY6uR4Hy2g08kbml91oNOp7AmNkOBx2dq2maWpxcbEWFxc7uyYk\\\n",
       "8CpEACIJGACRBAyASAIGQCQBAyDSgXkVIvyahsNhnTlzppNrzc7O1szMTCfXgiQH5n1g5R9aAvwv\\\n",
       "se8D8yNEACIJGACRBAyASAIGQCQBAyCSgAEQScAAiCRgAEQSMAAiCRgAkQQMgEgCBkAkAQMgkoAB\\\n",
       "EEnAAIgkYABEEjAAIgkYAJEEDIBIAgZAJAEDIJKAARBJwACIJGAARBIwACIJGACRBAyASAIGQCQB\\\n",
       "AyCSgAEQScAAiCRgAEQSMAAiCRgAkQQMgEgCBkAkAQMgkoABEEnAAIgkYABEEjAAIgkYAJEEDIBI\\\n",
       "AgZAJAEDINJU3wM61PQ9AIBfj2dgAEQSMAAiCRgAkQQMgEgCBkAkAQMgkoABEEnAAIgkYABEEjAA\\\n",
       "IgkYAJEEDIBIAgZAJAEDIJKAARBJwACIJGAARBIwACIJGACRBAyASAIGQCQBAyCSgAEQScAAiCRg\\\n",
       "AEQSMAAiCRgAkQQMgEgCBkAkAQMgkoABEEnAAIgkYABEEjAAIgkYAJH+BTm5uRPwLB5sAAAAAElF\\\n",
       "TkSuQmCC\\\n",
       "\"\n",
       "  frames[1] = \"data:image/png;base64,iVBORw0KGgoAAAANSUhEUgAAAbAAAAEgCAYAAADVKCZpAAAAOXRFWHRTb2Z0d2FyZQBNYXRwbG90\\\n",
       "bGliIHZlcnNpb24zLjUuMCwgaHR0cHM6Ly9tYXRwbG90bGliLm9yZy8/fFQqAAAACXBIWXMAAAsT\\\n",
       "AAALEwEAmpwYAAAHMklEQVR4nO3dTW9UdRjG4WdoaQcYaRmxjDG+JKALY6Jx5UI3roxhwd6Fn4KE\\\n",
       "b2AMaxK+g5uu1Z3BECNoTEysLwlELRChAYpAS9vjQmNCaiKt9hzu6XXt+s9Mz91F85vpzKS9pmkK\\\n",
       "ANLs6XoAAGyHgAEQScAAiCRgAEQSMAAiCRgAkQQMgEgCBkAkAQMgkoABEEnAAIgkYABEEjAAIgkY\\\n",
       "AJEEDIBIAgZAJAEDIJKAARBJwACIJGAARBIwACIJGACRBAyASAIGQCQBAyCSgAEQScAAiCRgAEQS\\\n",
       "MAAiCRgAkQQMgEgCBkAkAQMgkoABEGmy6wEtaroeAPAY6nU9YLs8AwMgkoABEEnAAIgkYABEEjAA\\\n",
       "IgkYAJEEDIBIAgZAJAEDIJKAARBJwACIJGAARBIwACIJGACRBAyASAIGQCQBAyCSgAEQScAAiCRg\\\n",
       "AEQSMAAiCRgAkQQMgEgCBkAkAQMgkoABEEnAAIgkYABEEjAAIgkYAJEEDIBIAgZAJAEDIJKAARBJ\\\n",
       "wACIJGAARBIwACIJGACRBAyASAIGQCQBAyCSgAEQScAAiCRgAEQSMAAiCRgAkQQMgEgCBkAkAQMg\\\n",
       "koABEEnAAIgkYABEEjAAIgkYAJEEDIBIAgZAJAEDIJKAARBJwACIJGAARBIwACIJGACRBAyASAIG\\\n",
       "QCQBAyCSgAEQScAAiCRgAEQSMAAiCRgAkQQMgEgCBkAkAQMgkoABEEnAAIgkYABEEjAAIgkYAJEE\\\n",
       "DIBIAgZAJAEDIJKAARBJwACIJGAARBIwACIJGACRBAyASAIGQCQBAyCSgAEQScAAiCRg0KL7N6/W\\\n",
       "8uL3tbG+1vUUiDfZ9QDYTa5980ldXzhXg9GLtWfiz1+/qcGwnnvrver1PJ6ErRAwaFvT1J0r3//9\\\n",
       "ZX921OEYyOUhHwCRBAyASAIGQCQBAyCSgAEQScAAiCRgAEQSMAAiCRgAkQQMgEgCBi3ZWHtQa/d/\\\n",
       "33S+d/9s+2NgDAgYtGT1zo26efnrTedzr7xdVb3W90A6AYPHQK8nYLBVAgZAJAEDIJKAARBJwACI\\\n",
       "JGAARBIwACIJGACRBAyASAIGQCQBAyCSgEFLln78oqppHjqbnjlS+596rqNFkE3AoCV3b/yy6Wyy\\\n",
       "P6ipA4c6WAP5BAyASAIGQCQBAyCSgAEQScAAiCRgAEQSMAAiCRgAkQQMgEgCBkAkAQMgkoBBC1Zu\\\n",
       "X697S79uOp994bX2x8CYEDBowYO7t2p1+fqm88GRox2sgfEgYABEEjAAIgkYAJEEDIBIAgZAJAED\\\n",
       "IJKAARBJwACIJGAARBIwACIJGACRBAxasLz43aaz6ZkjNTU41MEaGA8CBi249fO3m876s6OaGgw7\\\n",
       "WAPjQcAAiCRgAEQSMAAiCRgAkQQMgEgCBkAkAQMgkoABEKnXNE3XG9qya35Qdt7CwkKdOnXqkW//\\\n",
       "/huz9eyhqYe/x7WV+ujirX+9b7/fr7Nnz9bMzMyWd8Ij6HU9YLsmux4AiZaWlmp+fv6Rb//usRM1\\\n",
       "d/D5v75qamrP/bpy5UrNz3/8r/cdDAa1srKyvaEwxgQMWvDT76/Wtd/eqaqqXm3UKzPnqqlL3Y6C\\\n",
       "cF4Dgx02Gg5qffqlWm/21nqzt9aa6frm5pv15Y+eVcF/IWCww54eHa3Dw2ceOlvbmKhPL17qZhCM\\\n",
       "CQGDHfbE5M3aN3HnobPpPfdqorfe0SIYD14Dgx12d+VBNcuf1/U7r9eTB/fVwf2T9fITn9W+ieWu\\\n",
       "p0E0AYMd9uXCYl388INqqlevHRvV86OZ+qxp6sbte11Pg2i7JmCnT5/uegJj5PLly1u6/UbTVFVT\\\n",
       "X/2wWF/9sLil+66urtaZM2dqMBhs6X7wKE6ePNn1hG3bNR9kvnr16u74QWnFhQsX6vjx461c68CB\\\n",
       "A3X+/Pk6fPhwK9djdxmNRj7I/LgbjUZdT2CMDIfD1q7V6/Vqbm6u5ubmWrsmJPAuRAAiCRgAkQQM\\\n",
       "gEgCBkAkAQMg0q55FyL8n4bDYZ04caKVa/X7/Zqenm7lWpBk13wOrPxDS4B/Evs5MH9CBCCSgAEQ\\\n",
       "ScAAiCRgAEQSMAAiCRgAkQQMgEgCBkAkAQMgkoABEEnAAIgkYABEEjAAIgkYAJEEDIBIAgZAJAED\\\n",
       "IJKAARBJwACIJGAARBIwACIJGACRBAyASAIGQCQBAyCSgAEQScAAiCRgAEQSMAAiCRgAkQQMgEgC\\\n",
       "BkAkAQMgkoABEEnAAIgkYABEEjAAIgkYAJEEDIBIAgZAJAEDIJKAARBJwACIJGAARBIwACJNdj2g\\\n",
       "Rb2uBwDw//EMDIBIAgZAJAEDIJKAARBJwACIJGAARBIwACIJGACRBAyASAIGQCQBAyCSgAEQScAA\\\n",
       "iCRgAEQSMAAiCRgAkQQMgEgCBkAkAQMgkoABEEnAAIgkYABEEjAAIgkYAJEEDIBIAgZAJAEDIJKA\\\n",
       "ARBJwACIJGAARBIwACIJGACRBAyASAIGQCQBAyDSH5mxuROMw/J7AAAAAElFTkSuQmCC\\\n",
       "\"\n",
       "  frames[2] = \"data:image/png;base64,iVBORw0KGgoAAAANSUhEUgAAAbAAAAEgCAYAAADVKCZpAAAAOXRFWHRTb2Z0d2FyZQBNYXRwbG90\\\n",
       "bGliIHZlcnNpb24zLjUuMCwgaHR0cHM6Ly9tYXRwbG90bGliLm9yZy8/fFQqAAAACXBIWXMAAAsT\\\n",
       "AAALEwEAmpwYAAAHjUlEQVR4nO3dz2vceR3H8fc3mWWSJm3W2J0dWXVdUcEfu67rfS8LgtBDD+J/\\\n",
       "Uuh/INKjFOp/0YPgpezBBenBuggiZNsFs0qbahpqTTY/mszXiyhpqm3D5vvd1+TxOH6YL99XDuHJ\\\n",
       "TGYmTdu2BQBpZvoeAADHIWAARBIwACIJGACRBAyASAIGQCQBAyCSgAEQScAAiCRgAEQSMAAiCRgA\\\n",
       "kQQMgEgCBkAkAQMgkoABEEnAAIgkYABEEjAAIgkYAJEEDIBIAgZAJAEDIJKAARBJwACIJGAARBIw\\\n",
       "ACIJGACRBAyASAIGQCQBAyCSgAEQScAAiCRgAEQa9D2gQ23fAwA+h5q+BxyXZ2AARBIwACIJGACR\\\n",
       "BAyASAIGQCQBAyCSgAEQScAAiCRgAEQSMAAiCRgAkQQMgEgCBkAkAQMgkoABEEnAAIgkYABEEjAA\\\n",
       "IgkYAJEEDIBIAgZAJAEDIJKAARBJwACIJGAARBIwACIJGACRBAyASAIGQCQBAyCSgAEQScAAiCRg\\\n",
       "AEQSMAAiCRgAkQQMgEgCBkAkAQMgkoABEEnAAIgkYABEEjAAIgkYAJEEDIBIAgZAJAEDIJKAARBJ\\\n",
       "wACIJGAARBIwACIJGACRBAyASAIGQCQBAyCSgAEQScAAiCRgAEQSMAAiCRgAkQQMgEgCBkAkAQMg\\\n",
       "koABEEnAAIgkYABEEjAAIgkYAJEEDIBIAgZAJAEDIJKAARBJwACIJGAARBIwACIJGACRBAyASAIG\\\n",
       "QCQBAyCSgAEQScAAiCRgAEQSMAAiCRgAkQQMgEgCBkAkAQMgkoABEEnAAIgkYABEEjAAIgkYAJEE\\\n",
       "DDo0OdivzbU7NTnY73sKxBv0PQBOk4Pdrbr961/UmfNfrZnZ//76jd58r5a+8r0el0EeAYOutZPa\\\n",
       "vPfRoaOX33inpzGQy0uI0KFHf/1TtZODQ2eDubO1MPpaP4MgmIBBhzbX7jwlYAs1v/xaT4sgl4AB\\\n",
       "EEnAAIgkYABEEjAAIgkYAJEEDIBIAgZAJAEDIJKAARBJwKAje1sP659PfAdiVdXs8EwPayCfgEFH\\\n",
       "Jo93avfR34+cv/rWj6qq6X4QhBMw6FnTzFTTCBi8KAEDIJKAARBJwACIJGAARBIwACIJGACRBAyA\\\n",
       "SAIGQCQBg47sbT2sag+fzQyGNTuc72UPpBMw6Mjf/vh+PVmw+S9+uRbH3+xnEIQTMOiZr5GC4xEw\\\n",
       "ACIJGACRBAyASAIGQCQBAyCSgAEQScAAiCRgAEQSMAAiCRh0YHvjbm3d//jI+SvffreHNTAdBAw6\\\n",
       "cLC3Xfs7m0fOh+de6WENTAcBAyCSgAEQScAAiCRgAEQSMAAiCRgAkQQMgEgCBkAkAQMgkoBBB3Ye\\\n",
       "3jtyNpg/V7PDMz2sgekgYNCB9ZXfHjlbGL1R81/4Ug9rYDoIGACRBAyASAIGQCQBAyCSgAEQScAA\\\n",
       "iCRgAEQSMAAiCRgAkQQMTljbtk89b5qm4yUwXQQMTtjmvY/q0/VPnjhtavTme73sgWkhYHDCDvZ2\\\n",
       "qj14fPiwqXpp/lw/g2BKNP/r5Y0pdGp+UE7eyspKXb58+bke+63RsH76w6VDZ5O2rV9+sFEPtg6e\\\n",
       "ef3c3Fxdu3atlpaWnvlYOIbY17IHfQ+ARBsbG3X9+vXneuy7b71eP3nnx/V4Mvz3SVuDZrtu3LhR\\\n",
       "q/f/8czrFxcXa3d39/hjYUoJGJywtpq6s/l2fbz1/aqqampS3z37m55XQT4BgxO2vvta3d78QbU1\\\n",
       "+5+z1U+/U/vt8P9cBTyLN3HACZvU7KF4VVVt7I1r52C+p0UwHQQMTthLzW4Nmr1DZ6/OfVJnZjd7\\\n",
       "WgTTQcDghM21f6nF7V/V+vqfq927X2cHD+rrC3+omWa/72kQzd/A4IT9buVu/f7nP6u2mnr7G+N6\\\n",
       "fbxUH7RtPXi03fc0iHZqAnblypW+JzBFVldXX+jxk7atqrY+vH23Prx994Wu3dvbq6tXr9bi4uIL\\\n",
       "XQfP49KlS31POLZT80HmtbW10/GD0olbt27VhQsXOrnXwsJC3bx5s86fP9/J/ThdxuOxDzJ/3o3H\\\n",
       "474nMEWWl5c7u1fTNDUajWo0GnV2T0jgTRwARBIwACIJGACRBAyASAIGQKRT8y5E+CwtLy/XxYsX\\\n",
       "O7nX3NxcDYe++BeedGo+B1b+oSXA08R+DsxLiABEEjAAIgkYAJEEDIBIAgZAJAEDIJKAARBJwACI\\\n",
       "JGAARBIwACIJGACRBAyASAIGQCQBAyCSgAEQScAAiCRgAEQSMAAiCRgAkQQMgEgCBkAkAQMgkoAB\\\n",
       "EEnAAIgkYABEEjAAIgkYAJEEDIBIAgZAJAEDIJKAARBJwACIJGAARBIwACIJGACRBAyASAIGQCQB\\\n",
       "AyCSgAEQScAAiCRgAEQSMAAiCRgAkQQMgEgCBkCkQd8DOtT0PQCAz45nYABEEjAAIgkYAJEEDIBI\\\n",
       "AgZAJAEDIJKAARBJwACIJGAARBIwACIJGACRBAyASAIGQCQBAyCSgAEQScAAiCRgAEQSMAAiCRgA\\\n",
       "kQQMgEgCBkAkAQMgkoABEEnAAIgkYABEEjAAIgkYAJEEDIBIAgZAJAEDIJKAARBJwACIJGAARBIw\\\n",
       "ACIJGACR/gWo19kyArV4AAAAAABJRU5ErkJggg==\\\n",
       "\"\n",
       "  frames[3] = \"data:image/png;base64,iVBORw0KGgoAAAANSUhEUgAAAbAAAAEgCAYAAADVKCZpAAAAOXRFWHRTb2Z0d2FyZQBNYXRwbG90\\\n",
       "bGliIHZlcnNpb24zLjUuMCwgaHR0cHM6Ly9tYXRwbG90bGliLm9yZy8/fFQqAAAACXBIWXMAAAsT\\\n",
       "AAALEwEAmpwYAAAHWklEQVR4nO3dzYtVdRzH8e9xHmya0TG1MmsCi0h6EmadbfoD2uRGcN1fIAT+\\\n",
       "CS7b9E9IQlD7JqFNLYLskZQQLLWmdKwZx7mnRYsYr6BO3nP63Hm9lj/ucD4Dd3hzH4bTtG1bAJBm\\\n",
       "R98DAGArBAyASAIGQCQBAyCSgAEQScAAiCRgAEQSMAAiCRgAkQQMgEgCBkAkAQMgkoABEEnAAIgk\\\n",
       "YABEEjAAIgkYAJEEDIBIAgZAJAEDIJKAARBJwACIJGAARBIwACIJGACRBAyASAIGQCQBAyCSgAEQ\\\n",
       "ScAAiCRgAEQSMAAiCRgAkQQMgEiTfQ/oUNv3AID/oabvAVvlFRgAkQQMgEgCBkAkAQMgkoABEEnA\\\n",
       "AIgkYABEEjAAIgkYAJEEDIBIAgZAJAEDIJKAARBJwACIJGAARBIwACIJGACRBAyASAIGQCQBAyCS\\\n",
       "gAEQScAAiCRgAEQSMAAiCRgAkQQMgEgCBkAkAQMgkoABEEnAAIgkYABEEjAAIgkYAJEEDIBIAgZA\\\n",
       "JAEDIJKAARBJwACIJGAARBIwACIJGACRBAyASAIGQCQBAyCSgAEQScAAiCRgAEQSMAAiCRgAkQQM\\\n",
       "gEgCBkAkAQMgkoABEEnAAIgkYABEEjAAIgkYAJEEDIBIAgZAJAEDIJKAARBJwACIJGAARBIwACIJ\\\n",
       "GACRBAyASAIGQCQBAyCSgAEQScAAiCRgAEQSMAAiCRgAkQQMgEgCBkAkAQMgkoABEEnAAIgkYABE\\\n",
       "EjAAIgkYAJEEDIBIAgZAJAEDIJKAARBJwACIJGAARBIwACIJGACRBAyASAIGQCQBgw4NNm7Xys8/\\\n",
       "1GDjdt9TIN5k3wNgO9lYu1nff/xePbr/2dox8e+f3xOvvlnzC6/0uAzyCBh0rR3UyuXvNh3tObTY\\\n",
       "0xjI5S1EACIJGACRBAyASAIGQCQBgw79+t1nNdhY33Q2NftYzS+83NMiyCVg0KG161eq2nbT2cTU\\\n",
       "zpqa3dPPIAgmYABEEjAAIgkYAJEEDIBIAgZAJAEDIJKAQUfawcBtVOAhEjDoyNqNq7X84+dD53NP\\\n",
       "vVBVTfeDIJyAQVfattrB8Cuw+YVXq2kEDB6UgAEQScAAiCRgAEQSMAAiCRgAkQQMgEgCBkAkAYOO\\\n",
       "XPvm06GbWT7y2MGaffK5nhZBNgGDjqz+cWXobGJ6pqZmdvWwBvIJGACRBAyASAIGQCQBAyCSgAEQ\\\n",
       "ScAAiCRgAEQSMOjArZvLtXZ9+P/Adh18sYc1MB4EDDpw68Zvtbp8eeh8fuGVHtbAeBAwACIJGACR\\\n",
       "BAyASAIGQCQBAyCSgAEQScAAiCRg0IGrX38ydDb75PM1s/dgD2tgPAgYdGDt+tWhs8lH5mpieqaH\\\n",
       "NTAeBAyASAIGQCQBAyCSgAEQScAAiCRgAEQSMAAiCRiM2Orvv9T6zeWh891PH+5hDYwPAYMRW/39\\\n",
       "57q18tvmw6ap3c+81M8gGBMCBkAkAQMgkoABEEnAAIgkYABEEjAAIgkYAJEEDEaobQd3vRvz/LOv\\\n",
       "1fTc3h4Wwfho2rbte0NXts0vyuidOnWqzp8/f8/HNU3VO6/vrf1zk5vOv/jpr/roqxv3da3jx4/X\\\n",
       "sWPHtrQT7kPT94Ctmrz3Q4A7LS0t1dLS0j0ft6Np6viRt2v3oweqbf95w2OiWa+LFy/W2bP3/vmq\\\n",
       "qsXFxf+0FcaVgMGIXV/fWxevvVWrg9mqqto3fbnWB9/2vAry+QwMRqitqi//eKNubuypjXaqNtqp\\\n",
       "urK2UN+veFUF/5WAwUg1dbudvsvZVC9rYJwIGIxUWzMTd35Zo62ZiZVe1sA48RkYjFRbj69/WNeW\\\n",
       "m7pd83Vw/656YuelWp39su9hEE/AYITaturd9z+oqrM1N7Oz3lw8VE1TdeHy8A0ugQezbQJ2+vTp\\\n",
       "vicwRi5dunTfj/3nXy3buvHnap399OsHvta5c+c8fxmZkydP9j1hy7ZNwE6cONH3BMbImTNn6sKF\\\n",
       "C51c68iRI56/cBfbJmAHDhzoewJjZHr6zm8Wjs7c3JznL9yFbyECEEnAAIgkYABEEjAAIgkYAJG2\\\n",
       "zbcQ4WE6evRo7du3r5NrHT58uJPrQBo3tATY3mJvaOktRAAiCRgAkQQMgEgCBkAkAQMgkoABEEnA\\\n",
       "AIgkYABEEjAAIgkYAJEEDIBIAgZAJAEDIJKAARBJwACIJGAARBIwACIJGACRBAyASAIGQCQBAyCS\\\n",
       "gAEQScAAiCRgAEQSMAAiCRgAkQQMgEgCBkAkAQMgkoABEEnAAIgkYABEEjAAIgkYAJEEDIBIAgZA\\\n",
       "JAEDIJKAARBJwACIJGAARBIwACIJGACRBAyASAIGQCQBAyDSZN8DOtT0PQCAh8crMAAiCRgAkQQM\\\n",
       "gEgCBkAkAQMgkoABEEnAAIgkYABEEjAAIgkYAJEEDIBIAgZAJAEDIJKAARBJwACIJGAARBIwACIJ\\\n",
       "GACRBAyASAIGQCQBAyCSgAEQScAAiCRgAEQSMAAiCRgAkQQMgEgCBkAkAQMgkoABEEnAAIgkYABE\\\n",
       "EjAAIgkYAJEEDIBIfwMbN88KEqiKzwAAAABJRU5ErkJggg==\\\n",
       "\"\n",
       "  frames[4] = \"data:image/png;base64,iVBORw0KGgoAAAANSUhEUgAAAbAAAAEgCAYAAADVKCZpAAAAOXRFWHRTb2Z0d2FyZQBNYXRwbG90\\\n",
       "bGliIHZlcnNpb24zLjUuMCwgaHR0cHM6Ly9tYXRwbG90bGliLm9yZy8/fFQqAAAACXBIWXMAAAsT\\\n",
       "AAALEwEAmpwYAAAIAklEQVR4nO3dz28UhxnH4XfWa8AOOIGkwWpEg6iCojYtas+tWgI5ceyNS489\\\n",
       "cOHCX4E49v+IlAPigCo1ipQceqpKUkhTVUABgUGYHza2d6eHRE3dTQQ47E6+6+c5vtrRvit59dGO\\\n",
       "Z3abtm0LANL0ul4AALZCwACIJGAARBIwACIJGACRBAyASAIGQCQBAyCSgAEQScAAiCRgAEQSMAAi\\\n",
       "CRgAkQQMgEgCBkAkAQMgkoABEEnAAIgkYABEEjAAIgkYAJEEDIBIAgZAJAEDIJKAARBJwACIJGAA\\\n",
       "RBIwACIJGACRBAyASAIGQCQBAyCSgAEQScAAiNTveoEJarteAOB7qOl6ga3yCQyASAIGQCQBAyCS\\\n",
       "gAEQScAAiCRgAEQSMAAiCRgAkQQMgEgCBkAkAQMgkoABEEnAAIgkYABEEjAAIgkYAJEEDIBIAgZA\\\n",
       "JAEDIJKAARBJwACIJGAARBIwACIJGACRBAyASAIGQCQBAyCSgAEQScAAiCRgAEQSMAAiCRgAkQQM\\\n",
       "gEgCBkAkAQMgkoABEEnAAIgkYABEEjAAIgkYAJEEDIBIAgZAJAEDIJKAARBJwACIJGAARBIwACIJ\\\n",
       "GACRBAyASAIGQCQBAyCSgAEQScAAiCRgAEQSMAAiCRgAkQQMgEgCBkAkAQMgkoABEEnAAIgkYABE\\\n",
       "EjAAIgkYAJEEDIBIAgZAJAEDIJKAARBJwACIJGAARBIwACIJGACRBAyASAIGQCQBAyCSgAEQScAA\\\n",
       "iCRgAEQSMAAiCRgAkQQMgEgCBkAkAQMgkoABEEnAAIgkYABEEjAAIgkYAJEEDIBIAgZAJAEDIJKA\\\n",
       "ARCp3/UCsN0sXfm47l75ZNNsZudLdfC3v6/ezGxHW0EeAYMJe7J8u5avXdo0688tVDscVs10tBQE\\\n",
       "cgoRJqht22oHGyPzXn+2mqbpYCPIJWAwQRsrD+r2px+OzPf/7Hg1Th/CcxEwmKi22sH6yLSZ8QkM\\\n",
       "npeAARBJwACIJGAARBIwACIJGEzQw1v/qHY4GJk3jbciPC/vGpig5at/GwnYzoUf1N5Dv+xoI8gl\\\n",
       "YNCxpjdTvdmdXa8BcQQMgEgCBkAkAQMgkoABEEnAYEIGayv1ZPl212vA1BAwmJD1x/frwY3LI/PX\\\n",
       "33m3qnyRLzwvAYOOzc6/4pvoYQsEDIBIAgZAJAEDIJKAARBJwGBCVu/fqmo3z2Z2zFV/bk83C0E4\\\n",
       "AYMJufPZR/X/Bdu194e1e/+hbhaCcAIGQCQBAyCSgAEQScAAiCRgAEQSMJiAwfpqDdYej8x37N7b\\\n",
       "wTYwHQQMJmBl6Xo9vHFlZP76T9/tYBuYDgIGQCQBAyCSgAEQScAAiCRgAEQSMJiAu59/MjLr9XdU\\\n",
       "rz/bwTYwHQQMJuDx0rWR2Z433q65Vw90sA1MBwGDzjTVNE3XS0AsAQMgkoABEEnAAIgkYABEEjAY\\\n",
       "s5W712vtwZ2R+SsHj3SwDUwPAYMxe7J8p9Yf3988bJravf/H3SwEU0LAAIgkYABEEjAAIgkYAJEE\\\n",
       "DIBIAgZj1LZtPfj3ZyPz+VcP1MzOlzrYCKaHgME4tW0tX7s0Mp5/7c2andvTwUIwPQQMgEgCBkAk\\\n",
       "AQMgkoABEEnAYIzadlht23a9BkwlAYMxuvfFX+rJ8u3Nw6ZX86/9qJuFYIoIGIzRcGOtqh1umvVm\\\n",
       "+n5KBV4AAQMgUrONzs9vmxfK+AyHwzp9+nRdvXr1mR7/iwO76sQ7C5tmaxtt/fHPS/XoyfBbjvra\\\n",
       "qVOn6vjx41vaFZ5R0/UCW9XvegFIc/Hixbp0afTbNb7Rr96u937yXrXtlyc7+r21GgxW6/z583V3\\\n",
       "eeWph584ceK7rApTTcBgjNqaqY+XTtSjwctVVbW465/11q4/dbwVTAcBgzG6sXqoHmzsq/arfzdf\\\n",
       "X3mr+oNbHW8F08FFHDAmO2dn6ne/OfLfeH2pqfc/+qLuP1ztbC+YFgIGY9I0TS2+3FavNr6e1aBW\\\n",
       "V+7WYOiaIviunEKEMWnbttaW/1rzvR11Y/3ntbhvT70x93ldnf9716vBVBAwGJMn64P6w7kPqq0P\\\n",
       "at+e+fr1kTerqbY+/dftpx8MPNW2CdjZs2e7XoEp0LZtLS0tPfPjh1/dZ7m0/Kje//AZL73/Hxcu\\\n",
       "XKh79+4993HwrM6cOdP1Clu2bW5kvnnz5vZ4oYzVcDiso0eP1uXLlyfyfOfOnauTJ09O5LnYnhYX\\\n",
       "F93I/H23uLjY9QpMgeFwWP3+5N42CwsL/nbhW7gKEYBIAgZAJAEDIJKAARBJwACItG2uQoQX5dix\\\n",
       "Y3X48OGJPNfBgwcn8jyQaNvcB1Z+0BLgm8TeB+YUIgCRBAyASAIGQCQBAyCSgAEQScAAiCRgAEQS\\\n",
       "MAAiCRgAkQQMgEgCBkAkAQMgkoABEEnAAIgkYABEEjAAIgkYAJEEDIBIAgZAJAEDIJKAARBJwACI\\\n",
       "JGAARBIwACIJGACRBAyASAIGQCQBAyCSgAEQScAAiCRgAEQSMAAiCRgAkQQMgEgCBkAkAQMgkoAB\\\n",
       "EEnAAIgkYABEEjAAIgkYAJEEDIBIAgZAJAEDIJKAARCp3/UCE9R0vQAAL45PYABEEjAAIgkYAJEE\\\n",
       "DIBIAgZAJAEDIJKAARBJwACIJGAARBIwACIJGACRBAyASAIGQCQBAyCSgAEQScAAiCRgAEQSMAAi\\\n",
       "CRgAkQQMgEgCBkAkAQMgkoABEEnAAIgkYABEEjAAIgkYAJEEDIBIAgZAJAEDIJKAARBJwACIJGAA\\\n",
       "RBIwACIJGACR/gNebQsbhsrIbwAAAABJRU5ErkJggg==\\\n",
       "\"\n",
       "  frames[5] = \"data:image/png;base64,iVBORw0KGgoAAAANSUhEUgAAAbAAAAEgCAYAAADVKCZpAAAAOXRFWHRTb2Z0d2FyZQBNYXRwbG90\\\n",
       "bGliIHZlcnNpb24zLjUuMCwgaHR0cHM6Ly9tYXRwbG90bGliLm9yZy8/fFQqAAAACXBIWXMAAAsT\\\n",
       "AAALEwEAmpwYAAAIZ0lEQVR4nO3dzW5chRnH4Xc+HDt2YtwoiQOtSfmqCI1EFQmhSqCq3bLhAkC9\\\n",
       "Cm6hG4SUTS6gm26QUKRsUSvErumiLRRK1UgkoriFpsZ2nMQZz5xuWlTjFPI1c/iPn2f5akbntWTp\\\n",
       "N3PmzJlO0zQFAGm6bS8AAPdCwACIJGAARBIwACIJGACRBAyASAIGQCQBAyCSgAEQScAAiCRgAEQS\\\n",
       "MAAiCRgAkQQMgEgCBkAkAQMgkoABEEnAAIgkYABEEjAAIgkYAJEEDIBIAgZAJAEDIJKAARBJwACI\\\n",
       "JGAARBIwACIJGACRBAyASAIGQCQBAyCSgAEQScAAiNRve4EJatpeAOBbqNP2AvfKOzAAIgkYAJEE\\\n",
       "DIBIAgZAJAEDIJKAARBJwACIJGAARBIwACIJGACRBAyASAIGQCQBAyCSgAEQScAAiCRgAEQSMAAi\\\n",
       "CRgAkQQMgEgCBkAkAQMgkoABEEnAAIgkYABEEjAAIgkYAJEEDIBIAgZAJAEDIJKAARBJwACIJGAA\\\n",
       "RBIwACIJGACRBAyASAIGQCQBAyCSgAEQScAAiCRgAEQSMAAiCRgAkQQMgEgCBkAkAQMgkoABEEnA\\\n",
       "AIgkYABEEjAAIgkYAJEEDIBIAgZAJAEDIJKAARBJwACIJGAARBIwACIJGACRBAyASAIGQCQBAyCS\\\n",
       "gAEQScAAiCRgAEQSMAAiCRgAkQQMgEgCBkAkAQMgkoABEEnAAIgkYABEEjAAIgkYAJEEDIBIAgZA\\\n",
       "JAEDIJKAARBJwACIJGAARBIwACIJGACRBAyASAIGQCQBAyCSgAEQScAAiCRgAEQSMAAiCRgAkQQM\\\n",
       "gEgCBkCkftsLwH4z2hnUx+/8sobbW1/Olh47U0snn62Z+cUWN4MsAgYT1jSj2vz0o9q5sfHlbOOT\\\n",
       "D2rnxkY9fOalFjeDLE4hwoRdW/1LjQY3d826M3N16MRTLW0EmQQMJmzr849rtHNr16zbP1Dzx062\\\n",
       "tBFkEjAAIgkYAJEEDIBIAgYTtLN9vdavvLdn3p+dr06n08JGkEvAYIKa4aBurq3umR8//bPq9GZa\\\n",
       "2AhyCRh8G3S63oHBXRIwACIJGACRBAwmaHB9vZqm2TXr9PrVnzvU0kaQS8Bggj7/4J1qhoNds9nD\\\n",
       "R2vp5LMtbQS5BAy+DVy/AXdNwACIJGAARBIwmJDhYLtubX3R9howNQQMJmSwtVYbn/xpz/zo0y+U\\\n",
       "D8Hg7gkYtGx28bi7cMA9EDAAIgkYAJEEDCbkq3fgAO6PgMGEfPb+r6u+ErHegYPVP3i4pY0gm4DB\\\n",
       "hAyur++ZzX3nkTq0/HgL20A+AQMgkoABEEnAAIgkYDABgxubNdha2zOfP/poC9vAdBAwmIDt9c/q\\\n",
       "+j+v7JkfeeK5FraB6SBgAEQSMAAiCRgAkQQMJmBz9aPbTDtV7kIP90zAYALWr7y/Z7b4vVOuQoT7\\\n",
       "IGDQkk5vprq9fttrQCwBAyCSgAEQScBgzEbDnWpGw7bXgKkjYDBmm3/78LZ34Tj8yA9a2Aamh4DB\\\n",
       "mDWjUVUz2j3sdOqhldPtLARTQsAAiCRgAEQSMAAiCRiMUdM09cXlP+yZH1p+ovoHD7ewEUwPAYNx\\\n",
       "apra+selPeO5pYerP7vQwkIwPQQMgEgCBkAkAQMgkoDBGG1++ue6tbW2Z96f8/kX3C8BgzHa3rxa\\\n",
       "o8H2rlm3f6CO/fCnLW0E00PAoAUdv8QM903AAIgkYABEEjAYk6YZ1eA2F3AAD4aAwZiMdgb1+Yfv\\\n",
       "7pkvff9H1Tsw38JGMF0EDCZs9qHj1e3PtL0GxBMwACIJGACRBAyASAIGY7J26WINt7d2zXqzC3Xk\\\n",
       "ieda2gimS6dpmrZ3mJR984cyPm+//XadO3fujh774pML9ZOndt/z8Nr2sM69868aDL/533FlZaXO\\\n",
       "nj1b3a7XmYxV7G1h+m0vAEkuX75c58+fv6PHHnvpTL3w5PO1MzpQVVWdzqhu3lyrCxcu1M1bO9/4\\\n",
       "/FOnTtU+eoEJd03AYEyGTb/+uP5i/f3mY1VVtdBbr6dnftXyVjA9BAzG5PKNZ+rRG0/Vf8/QbO4c\\\n",
       "qdXh4+0uBVPEyXUYg4cWZuulH5+u//14oaluXVq9VqOR04LwIAgYjEGv263lxWF1avjlrFs79Zvf\\\n",
       "vVe3doZf80zgTjmFCGMwHI1qtPnbmtluaq05VceXFmq+v1HLc1faXg2mhoDBGKxvbdfPf/FWNfVW\\\n",
       "nThyuJ5/5rvVqarf/3W17dVgauybgL3++uttr8AUuHjx4h0/dvSfS+BXr27U+Xc37vpYV69erTfe\\\n",
       "eMOvNzNWr732Wtsr3LN9E7BXX3217RWYAv1+v958882JHGtpaaleeeUVX2SG/2PfBOzEiRNtr8AU\\\n",
       "WFxcnNixer1eLS8vV6/Xm9gxIYmXdgBEEjAAIgkYAJEEDIBIAgZApH1zFSI8CCdPnqyXX355Isda\\\n",
       "WVnxHTD4Gn7QEmB/i32V5BQiAJEEDIBIAgZAJAEDIJKAARBJwACIJGAARBIwACIJGACRBAyASAIG\\\n",
       "QCQBAyCSgAEQScAAiCRgAEQSMAAiCRgAkQQMgEgCBkAkAQMgkoABEEnAAIgkYABEEjAAIgkYAJEE\\\n",
       "DIBIAgZAJAEDIJKAARBJwACIJGAARBIwACIJGACRBAyASAIGQCQBAyCSgAEQScAAiCRgAEQSMAAi\\\n",
       "CRgAkQQMgEgCBkAkAQMgkoABEKnf9gIT1Gl7AQAeHO/AAIgkYABEEjAAIgkYAJEEDIBIAgZAJAED\\\n",
       "IJKAARBJwACIJGAARBIwACIJGACRBAyASAIGQCQBAyCSgAEQScAAiCRgAEQSMAAiCRgAkQQMgEgC\\\n",
       "BkAkAQMgkoABEEnAAIgkYABEEjAAIgkYAJEEDIBIAgZAJAEDIJKAARBJwACIJGAARBIwACL9G21m\\\n",
       "HZoryFZaAAAAAElFTkSuQmCC\\\n",
       "\"\n",
       "  frames[6] = \"data:image/png;base64,iVBORw0KGgoAAAANSUhEUgAAAbAAAAEgCAYAAADVKCZpAAAAOXRFWHRTb2Z0d2FyZQBNYXRwbG90\\\n",
       "bGliIHZlcnNpb24zLjUuMCwgaHR0cHM6Ly9tYXRwbG90bGliLm9yZy8/fFQqAAAACXBIWXMAAAsT\\\n",
       "AAALEwEAmpwYAAAJJ0lEQVR4nO3dS29chRnH4XfscXzLDeeCKeXSgmgiQCoqSFErWrHsglUX/Qx8\\\n",
       "AL5BJRZI3XXRL8CuVVG6qgpFtKit2IC4FBWkAkUQQpKSZBzH9nhOF9BKZoJiO545/MfPs4n0aqx5\\\n",
       "LXny0zln5kynaZoCgDRTbS8AALshYABEEjAAIgkYAJEEDIBIAgZAJAEDIJKAARBJwACIJGAARBIw\\\n",
       "ACIJGACRBAyASAIGQCQBAyCSgAEQScAAiCRgAEQSMAAiCRgAkQQMgEgCBkAkAQMgkoABEEnAAIgk\\\n",
       "YABEEjAAIgkYAJEEDIBIAgZAJAEDIJKAARBJwACIJGAAROq2vcAYNW0vAPAN1Gl7gd1yBAZAJAED\\\n",
       "IJKAARBJwACIJGAARBIwACIJGACRBAyASAIGQCQBAyCSgAEQScAAiCRgAEQSMAAiCRgAkQQMgEgC\\\n",
       "BkAkAQMgkoABEEnAAIgkYABEEjAAIgkYAJEEDIBIAgZAJAEDIJKAARBJwACIJGAARBIwACIJGACR\\\n",
       "BAyASAIGQCQBAyCSgAEQScAAiCRgAEQSMAAiCRgAkQQMgEgCBkAkAQMgkoABEEnAAIgkYABEEjAA\\\n",
       "IgkYAJEEDIBIAgZAJAEDIJKAARBJwACIJGAARBIwACIJGACRBAyASAIGQCQBAyCSgAEQScAAiCRg\\\n",
       "AEQSMAAiCRgAkQQMgEgCBkAkAQMgkoABEEnAAIgkYABEEjAAIgkYAJEEDIBIAgZAJAEDIJKAARBJ\\\n",
       "wACIJGAARBIwACIJGACRBAyASAIGQCQBAyCSgAEQScAAiCRgAEQSMAAiCRgAkQQMgEgCBkAkAQMg\\\n",
       "koABEEnAAIjUbXsB2I8uf/hGnX/zxaqqOvbAD2vutjuq0+nU3NHl6kxNt7wdZBAwaMH6yn/qykdv\\\n",
       "V1X9/9+pmdl66Oe/qJmFw22uBjGcQoQxa5qmBv2NoXlnqlvVaWEhCCVgMGaD/nqdf/OFofmJ049X\\\n",
       "d+5QCxtBJgGDFtzwCGx6pjodh2CwXQIGQCQBgzHrr16tZrDZ9hoQT8BgzC6++9faXFvZMps+MF9H\\\n",
       "7n64pY0gk4DBN0Bneqbmji63vQZEETAAIgkYjFHTNFXN8Ny7D2HnBAzGaHNtpS6++7eh+fHTP66p\\\n",
       "7kwLG0EuAYMxagab1V+9MjSfWThSnY6XI+yEVwwAkQQMxuhGd+AAdkfAYIw+feOPNeivb5lNzy7W\\\n",
       "/NKdLW0EuQQMxqjZHD4Cm5k/VIsn7x3/MhBOwACIJGAwJoP+RvWvr9z8gcC2CBiMyXrvYn3+wWtD\\\n",
       "89vue6x8kyXsnIBByxaO3eVOHLALAgZAJAGDMWmaG9wEscrZQ9glAYMxOf/mi1Vfidj8sbvq0B0P\\\n",
       "tLQRZBMwGJONa5eHZlPdAzV9YL6FbSCfgAEQScBgDJrBZjWDzbbXgIkiYDAG1y58WFc+entofuhb\\\n",
       "rn/BbgkYjEEzGFQ1g6H5kbsebmEbmAwCBkAkAQMgkoDBGFx67+9Ds4Xj99Tc0dtb2AYmg4DBGFy7\\\n",
       "+NHQbGbxaHXnDrawDUwGAQMgkoDBiH3tPRCBWyJgMGK9T/5Zqxf/PTR3/QtujYDBiG2uX69Bf33r\\\n",
       "sNOp49/7UTsLwYQQMAAiCRiMUNM0Neivtb0GTCQBg5Fq6tzrfxiazi99u6ZnF1vYByaHgMEoNVXN\\\n",
       "5sbQePHEvTUzf6iFhWByCBgAkQQMgEgCBiN09eN3an3l86F5d871L7hVAgYjtHb1Yg02rm+ZTXUP\\\n",
       "1IkHn2hpI5gcAgYt6HQ6ba8A8QQMRuSLeyC6DyKMioDBiDSbG/XZWy8NzWcPn6jOdHf8C8GEETAY\\\n",
       "kaZpamP16tD86Hceqa4PMcMtEzAAIgkYAJEEDEZk5fy/hm7kO9WdrcWT321pI5gsAgYj0jv3Xg02\\\n",
       "vhKwmdk6uHx/SxvBZBEwACIJGACRBAxGoL92rT5//7WheXfuoLtwwB4RMBiBZrNfa5c/HZqffPCJ\\\n",
       "6kzPtLARTB4Bg3HqdByBwR4RMBgJ90CEURMwGIHzb71Ug/7GltlUd7YOHFxqaSOYPAIGI9C/frW+\\\n",
       "ehQ2s3i0Dt95up2FYAJ1vvjKh31h3/yi7L3Lly/XU089Vaurq9t6/E8fPFQ/uHt+y+xCr1+//sul\\\n",
       "2s5L7plnnqlTp07tZlXYqdiLsr7TAbZhbW2tzp49W71eb1uPP7XweD105yP1v/8bZqbWqtfr1fO/\\\n",
       "e74G2yjY008/fSvrwr4gYLDHjizO1pGTj9WfPvtZNV+epb9v8fWq/gvVOBEAe8Y1MNhjiwuHa/74\\\n",
       "T6rfzNZmM1ObzUy923ukfnn2wrZOHwLbI2Cwx9YGC3VpfXnLrKnpuro6aGkjmEwCBntsfrpXt899\\\n",
       "sGU23VmvA1NrX/MTwG64BgZ77Mzp26vb+3NdvNLU4vx8HTu8UHfPvlpzzYdtrwYTRcBgj/3m5bfr\\\n",
       "ty//o5r6Vd2zfLS+f/9y/f7KtXr1nY/bXg0myr4J2LPPPtv2CgTr9Xq1vr6+rcc2TX35bsOm3v/k\\\n",
       "Ur3/yaUdP99zzz1Xr7zyyo5/DnYq+SMb++aDzOfOndsfvygjceHChTpz5kytrKyM5fnOnj1bjz76\\\n",
       "6Fiei/1teXnZB5m/6ZaXl2/+IPgaU1NTY72L/NLSkr9ZuAnvQgQgkoABEEnAAIgkYABEEjAAIu2b\\\n",
       "dyHCrZidna0nn3xy298HdquWlnxzM9zMvvkcWPlCS4Abif0cmFOIAEQSMAAiCRgAkQQMgEgCBkAk\\\n",
       "AQMgkoABEEnAAIgkYABEEjAAIgkYAJEEDIBIAgZAJAEDIJKAARBJwACIJGAARBIwACIJGACRBAyA\\\n",
       "SAIGQCQBAyCSgAEQScAAiCRgAEQSMAAiCRgAkQQMgEgCBkAkAQMgkoABEEnAAIgkYABEEjAAIgkY\\\n",
       "AJEEDIBIAgZAJAEDIJKAARBJwACIJGAARBIwACIJGACRBAyASAIGQKRu2wuMUaftBQDYO47AAIgk\\\n",
       "YABEEjAAIgkYAJEEDIBIAgZAJAEDIJKAARBJwACIJGAARBIwACIJGACRBAyASAIGQCQBAyCSgAEQ\\\n",
       "ScAAiCRgAEQSMAAiCRgAkQQMgEgCBkAkAQMgkoABEEnAAIgkYABEEjAAIgkYAJEEDIBIAgZAJAED\\\n",
       "IJKAARBJwACIJGAARBIwACL9Fwi/ZBL4ZjVzAAAAAElFTkSuQmCC\\\n",
       "\"\n",
       "  frames[7] = \"data:image/png;base64,iVBORw0KGgoAAAANSUhEUgAAAbAAAAEgCAYAAADVKCZpAAAAOXRFWHRTb2Z0d2FyZQBNYXRwbG90\\\n",
       "bGliIHZlcnNpb24zLjUuMCwgaHR0cHM6Ly9tYXRwbG90bGliLm9yZy8/fFQqAAAACXBIWXMAAAsT\\\n",
       "AAALEwEAmpwYAAAJb0lEQVR4nO3d24/cdRnH8WdmZ7fb7dKyUNpFUI4VERESFA/RaEyUGy+88sYQ\\\n",
       "b0m85o8gxGv9I7gg8cLEKCEaFCGgFURAKIeUc0u3XdruaebnhYdkmca2y8z8+My+XlfNk9nM02Qn\\\n",
       "752Z78yv0zRNAUCabtsLAMBOCBgAkQQMgEgCBkAkAQMgkoABEEnAAIgkYABEEjAAIgkYAJEEDIBI\\\n",
       "AgZAJAEDIJKAARBJwACIJGAARBIwACIJGACRBAyASAIGQCQBAyCSgAEQScAAiCRgAEQSMAAiCRgA\\\n",
       "kQQMgEgCBkAkAQMgkoABEEnAAIgkYABEEjAAIgkYAJF6bS8wQU3bCwB8CnXaXmCnPAMDIJKAARBJ\\\n",
       "wACIJGAARBIwACIJGACRBAyASAIGQCQBAyCSgAEQScAAiCRgAEQSMAAiCRgAkQQMgEgCBkAkAQMg\\\n",
       "koABEEnAAIgkYABEEjAAIgkYAJEEDIBIAgZAJAEDIJKAARBJwACIJGAARBIwACIJGACRBAyASAIG\\\n",
       "QCQBAyCSgAEQScAAiCRgAEQSMAAiCRgAkQQMgEgCBkAkAQMgkoABEEnAAIgkYABEEjAAIgkYAJEE\\\n",
       "DIBIAgZAJAEDIJKAARBJwACIJGAARBIwACIJGACRBAyASAIGQCQBAyCSgAEQScAAiCRgAEQSMAAi\\\n",
       "CRgAkQQMgEgCBkAkAQMgkoABEEnAAIgkYABEEjAAIgkYAJEEDIBIAgZAJAEDIJKAARBJwACIJGAA\\\n",
       "RBIwACIJGACRBAyASAIGQCQBAyCSgAEQScAAiCRgAEQSMAAiCRgAkQQMgEgCBkAkAQMgkoABEEnA\\\n",
       "AIgkYABE6rW9AOxGTdPU+un3atDfqqqqTrdb81cuV6fjb0q4VAIGbWiaevU3v6i1lXerqqrbm6sD\\\n",
       "N9xV+6//Yh287ZstLwcZ/LkHLWma5n//Hmxt1KlXn66z7x9rcSPIImDQiubiNwH+LwGDFpw69kxt\\\n",
       "rJ7YPux0a+9V17WzEAQSMGhBf3OtmkF/26w7M1tLN93T0kaQR8AAiCRgMGGD/matvPaXofnM3HxV\\\n",
       "p9PCRpBJwGDCmsGgzp08PjQ/+IVvVW9+sYWNIJOAwadFp1sdz8DgkgkYTNjayrvV9DfbXgPiCRhM\\\n",
       "2Ok3/1b9jfPbZr35xbr6819vaSPIJGDwadDpVm/+ira3gCgCBhO0tX6uTr/x3NC8t2fB+19wmQQM\\\n",
       "Jqjpb9bayjtD80Nf+l51ZmZb2AhyCRh8GjiBCJdNwGCCzp08Xs1gMDQXL7h8AgYTtPLas9UMtrbN\\\n",
       "5q64ug7ccFdLG0EuAYOWdWdmqze/r+01II6AwYQM+lvV31xvew2YGgIGE7KxeqJOHXtmaH7gc1+u\\\n",
       "Ku+BweUSMJio4SsxLy7f6hAH7ICAwYQ0zXC8gJ0TMJiQ959/rOpjEZuZ21u9vb5CCnZCwGBCNs+d\\\n",
       "HprNL32mFg/f3MI2kE/AAIgkYDAB66sn6vyHbw3Nr/QBZtgxAYMJ2Dx7ujZWTwzNF5dvbWEbmA4C\\\n",
       "BhPhBCKMmoDBBLz33O+GZr35K2pmz0IL28B0EDCYgAudQNx3+Obau3RtC9vAdBAwACIJGIzZ+Q/f\\\n",
       "uuABjm5vroVtYHoIGIzZ+pkTwy8hdjq1fNd97SwEU0LAoCXd3mzbK0A0AYMxapqm1k6/1/YaMJUE\\\n",
       "DMapaerkS08MjQ989s6a3bfUwkIwPQQMWjC7cKBmZve0vQZEEzAYo0F/s5pm0PYaMJUEDMbo1LFn\\\n",
       "av30B9tmne5MLV7rOxDhkxIwGKNm0K+Pfw9ipztT+6+7vZ2FYIoIGIxJMxjUuhOIMDYCBmMy6G/W\\\n",
       "yX/+eWi+dMtXa2bPvhY2gukiYDBhc4tL1Z3ptb0GxBMwGJOmv1nVuA4YjIuAwZh88I8/1Nba6rZZ\\\n",
       "tzdX+w7d1NJGMF0EDMbk3ycQt+vOztfi8pEWtoHpI2AARBIwGIOt9bP14StPDc3n9i1Vp9NpYSOY\\\n",
       "PgIGY9D0+7V59tTQ/ODt33YhSxgRAQMgkoDBGKy+8/IFD3F0Oh5yMCoeTTAGq2+/OBSwPfuvqaWb\\\n",
       "72lpI5g+AgaT0ul6/wtGSMBgxAZbG7V1fnVoPrd4VZUDiDAyAgYjtvHRh7XyxtGh+aE7vus9MBgh\\\n",
       "jyYAIgkYjNjq2y9d4Et8O1WefcFIeUTBiJ05/sLQbOHg51yFGUZMwGACOjMz1XENMBgpAYMR6m+s\\\n",
       "1dba2bbXgF2h0+yeC+7tmv8oo/XQQw/Vk08+eUm3vf7K2frpN5aGTsv/8td/rxN1zUV//r777qsH\\\n",
       "HnhgB1vCjsV+uMNrGnARTz31VD366KOXdNs7bz5UP/naj2vQzFRVVbezVbPdzXr6uVfq6KtPXPTn\\\n",
       "Dx8+/ElWhV1FwGCEtmp//enkD+ts/0BVVe3vnax7ln7b8lYwnQQMRugH3/lRndm6uv77qsypzcP1\\\n",
       "2Ot31Mkz59tdDKaQQxwwQmfqttr+lkKnXnjzTB3/4ExbK8HUEjAYoRv3vVDbzws1tTDzUVvrwFTz\\\n",
       "EiKMyI3LV9ah+eP1xspf69zgqrr+4P5a2vNBrXd+3/ZqMJUEDEbk9XdX6mc/f6SaeqT2zPbq+1+5\\\n",
       "pWa6nXrs2WNtrwZTadcE7OGHH257BUK9/PLLl3zbwX8+V7m2sVm/+uOLl31fR48e9bvKRD344INt\\\n",
       "r7BjuyZg999/f9srEOrxxx+v559/fiL3deTIEb+rcIl2TcCWl5fbXoFQ8/PzE7uvhYUFv6twiZxC\\\n",
       "BCCSgAEQScAAiCRgAEQSMAAi7ZpTiLBT9957bw0Gg4nc19133z2R+4Fp4IKWALtb7AUtvYQIQCQB\\\n",
       "AyCSgAEQScAAiCRgAEQSMAAiCRgAkQQMgEgCBkAkAQMgkoABEEnAAIgkYABEEjAAIgkYAJEEDIBI\\\n",
       "AgZAJAEDIJKAARBJwACIJGAARBIwACIJGACRBAyASAIGQCQBAyCSgAEQScAAiCRgAEQSMAAiCRgA\\\n",
       "kQQMgEgCBkAkAQMgkoABEEnAAIgkYABEEjAAIgkYAJEEDIBIAgZAJAEDIJKAARBJwACIJGAAROq1\\\n",
       "vcAEddpeAIDR8QwMgEgCBkAkAQMgkoABEEnAAIgkYABEEjAAIgkYAJEEDIBIAgZAJAEDIJKAARBJ\\\n",
       "wACIJGAARBIwACIJGACRBAyASAIGQCQBAyCSgAEQScAAiCRgAEQSMAAiCRgAkQQMgEgCBkAkAQMg\\\n",
       "koABEEnAAIgkYABEEjAAIgkYAJEEDIBIAgZAJAEDINK/APfRadbi518BAAAAAElFTkSuQmCC\\\n",
       "\"\n",
       "\n",
       "\n",
       "    /* set a timeout to make sure all the above elements are created before\n",
       "       the object is initialized. */\n",
       "    setTimeout(function() {\n",
       "        anim545d7117c3a1437d80c0329746308c05 = new Animation(frames, img_id, slider_id, 40.0,\n",
       "                                 loop_select_id);\n",
       "    }, 0);\n",
       "  })()\n",
       "</script>\n"
      ],
      "text/plain": [
       "<matplotlib.animation.FuncAnimation at 0x7f6c302a9e50>"
      ]
     },
     "execution_count": 74,
     "metadata": {},
     "output_type": "execute_result"
    }
   ],
   "source": [
    "plot_animation(frames)"
   ]
  },
  {
   "cell_type": "code",
   "execution_count": null,
   "metadata": {},
   "outputs": [],
   "source": []
  }
 ],
 "metadata": {
  "interpreter": {
   "hash": "32160f9af9b02115966f893847d2cfd03914ccdb66915bb90d27d222645b1692"
  },
  "kernelspec": {
   "display_name": "Python 3.8.10 64-bit ('venv': venv)",
   "language": "python",
   "name": "python3"
  },
  "language_info": {
   "codemirror_mode": {
    "name": "ipython",
    "version": 3
   },
   "file_extension": ".py",
   "mimetype": "text/x-python",
   "name": "python",
   "nbconvert_exporter": "python",
   "pygments_lexer": "ipython3",
   "version": "3.8.10"
  },
  "orig_nbformat": 4
 },
 "nbformat": 4,
 "nbformat_minor": 2
}
